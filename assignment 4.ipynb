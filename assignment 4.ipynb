{
 "cells": [
  {
   "cell_type": "code",
   "execution_count": 1,
   "metadata": {},
   "outputs": [
    {
     "name": "stdout",
     "output_type": "stream",
     "text": [
      "{'first_name': 'Ammad', 'last_name': 'Ahmed', 'age': 19, 'city': 'Karachi'}\n",
      "{'first_name': 'Ammad', 'last_name': 'Ahmed', 'age': 19, 'city': 'Karachi', 'qualification': 'inter'}\n",
      "{'first_name': 'Ammad', 'last_name': 'Ahmed', 'age': 19, 'city': 'Karachi', 'qualification': 'higher Academics'}\n",
      "{'first_name': 'Ammad', 'last_name': 'Ahmed', 'age': 19, 'city': 'Karachi'}\n"
     ]
    }
   ],
   "source": [
    "dic ={\n",
    "    \"first_name\":\"Ammad\",\n",
    "    \"last_name\":\"Ahmed\",\n",
    "    \"age\":19,\n",
    "    \"city\":\"Karachi\"\n",
    "}\n",
    "print(dic)\n",
    "dic[\"qualification\"] = \"inter\"\n",
    "print(dic)\n",
    "dic[\"qualification\"] = \"higher Academics\"\n",
    "print(dic)\n",
    "\n",
    "del dic[\"qualification\"]\n",
    "print(dic)"
   ]
  },
  {
   "cell_type": "code",
   "execution_count": 2,
   "metadata": {},
   "outputs": [
    {
     "name": "stdout",
     "output_type": "stream",
     "text": [
      "{'karachi': {'country': 'Pakistan', 'population': '25 million', 'fact': 'city of light'}, 'multan': {'country': 'Pakistan', 'population': '15 million', 'fact': 'Multan is famous for its crops'}, 'peshawer': {'country': 'Pakistan', 'population': '15 million', 'fact': 'city of flower'}}\n"
     ]
    }
   ],
   "source": [
    "cities = {\n",
    "    \"karachi\": {\n",
    "        \"country\":\"Pakistan\",\n",
    "        \"population\":\"25 million\",\n",
    "        \"fact\":\"city of light\",\n",
    "    },\n",
    "    \"multan\": {\n",
    "        \"country\":\"Pakistan\",\n",
    "        \"population\":\"15 million\",\n",
    "        \"fact\":\"Multan is famous for its crops\",\n",
    "    },\n",
    "    \"peshawer\": {\n",
    "        \"country\":\"Pakistan\",\n",
    "        \"population\":\"15 million\",\n",
    "        \"fact\":\"city of flower\",\n",
    "    }\n",
    "}\n",
    "print(cities)"
   ]
  },
  {
   "cell_type": "code",
   "execution_count": 11,
   "metadata": {},
   "outputs": [
    {
     "name": "stdout",
     "output_type": "stream",
     "text": [
      "Enter total no. of person want to buy tickect for movie : 2\n",
      "\n",
      "Enter Your age : 13\n",
      "You are 13 years old\n",
      "Tickets Price: 15 $\n",
      "\n",
      "Enter Your age : 3\n",
      "You are 3 years old \n",
      "Tickets Price: 12 $\n",
      "\n",
      "total Cost: 27 $\n"
     ]
    }
   ],
   "source": [
    "total_per = int(input('Enter total no. of person want to buy tickect for movie : '))\n",
    "total_cost = 0\n",
    "for age in range(total_per):\n",
    "    age = int(input('\\nEnter Your age : '))\n",
    "    if age < 3:\n",
    "        indi_cost = 0\n",
    "        total_cost += indi_cost\n",
    "        print(\"Tickets are free\")\n",
    "    elif age >= 3 and age <= 12: \n",
    "        indi_cost = 12\n",
    "        total_cost += indi_cost\n",
    "        print(f\"You are {age} years old \\nTickets Price: {indi_cost} $\")\n",
    "    else:\n",
    "        indi_cost = 15\n",
    "        total_cost += indi_cost\n",
    "        print(f'You are {age} years old\\nTickets Price: {indi_cost} $')\n",
    "print(f'\\ntotal Cost: {total_cost} $')"
   ]
  },
  {
   "cell_type": "code",
   "execution_count": 12,
   "metadata": {},
   "outputs": [
    {
     "name": "stdout",
     "output_type": "stream",
     "text": [
      "My favourite book is alice in wonderland\n"
     ]
    }
   ],
   "source": [
    "def book(title):\n",
    "    print (title)\n",
    "title = \"My favourite book is alice in wonderland\"\n",
    "book(title)  "
   ]
  },
  {
   "cell_type": "code",
   "execution_count": 13,
   "metadata": {},
   "outputs": [
    {
     "name": "stdout",
     "output_type": "stream",
     "text": [
      "Welcome to Guess a Number game: \n",
      "\n",
      "You have only three turns to guess a number\n",
      "Guess a no. b/w 1 to 30\n",
      "\n",
      "Enter a Guess no : 2\n",
      "You guess a wrong no.\n",
      "Hint: guess number is greater than ur entered no.\n",
      "Turns Remaining = 2\n",
      "\n",
      "Enter a Guess no : 3\n",
      "You guess a wrong no.\n",
      "Hint: guess number is greater than ur entered no.\n",
      "Turns Remaining = 1\n",
      "\n",
      "Enter a Guess no : 4\n",
      "You guess a wrong no.\n",
      "Hint: guess number is greater than ur entered no.\n",
      "Turns Remaining = 0\n",
      "\n",
      "Better luck next time u didnt guess no. in 3 turns \n",
      "Anwser is 26\n"
     ]
    }
   ],
   "source": [
    "import random #when we use this 'syntax : random.randint(start,end)'\n",
    "print(\"Welcome to Guess a Number game: \")\n",
    "guess_ans = random.randint(1, 30)\n",
    "guess_turn = 0\n",
    "guess_left = 3\n",
    "print('\\nYou have only three turns to guess a number\\nGuess a no. b/w 1 to 30')\n",
    "for guess_no in range(guess_left):\n",
    "    guess_no = int(input(\"\\nEnter a Guess no : \"))\n",
    "    if guess_turn < 3:\n",
    "        \n",
    "        if guess_no == guess_ans:\n",
    "            guess_turn += 1\n",
    "            guess_left -= 1\n",
    "            print(f\"Congratulatio!\\nYou guess a correct no.\\nTotal Turns Taken = {guess_turn} turns\\nTurns Remaining = {guess_left}\")\n",
    "            break\n",
    "        elif guess_no < guess_ans:\n",
    "            guess_turn += 1\n",
    "            guess_left -= 1\n",
    "            print(f\"You guess a wrong no.\\nHint: guess number is greater than ur entered no.\\nTurns Remaining = {guess_left}\")\n",
    "        else:\n",
    "            guess_turn += 1\n",
    "            guess_left -= 1\n",
    "            print(f\"You guess a wrong no.\\nHint: guess number is less than your entered no.\\nTurns Remaining = {guess_left}\")\n",
    "    if guess_left == 0 and guess_no != guess_ans:\n",
    "        print(f'\\nBetter luck next time u didnt guess no. in 3 turns \\nAnwser is {guess_ans}')"
   ]
  },
  {
   "cell_type": "code",
   "execution_count": null,
   "metadata": {},
   "outputs": [],
   "source": []
  },
  {
   "cell_type": "code",
   "execution_count": null,
   "metadata": {},
   "outputs": [],
   "source": []
  }
 ],
 "metadata": {
  "kernelspec": {
   "display_name": "Python 3",
   "language": "python",
   "name": "python3"
  },
  "language_info": {
   "codemirror_mode": {
    "name": "ipython",
    "version": 3
   },
   "file_extension": ".py",
   "mimetype": "text/x-python",
   "name": "python",
   "nbconvert_exporter": "python",
   "pygments_lexer": "ipython3",
   "version": "3.7.4"
  }
 },
 "nbformat": 4,
 "nbformat_minor": 2
}
