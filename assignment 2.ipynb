{
 "cells": [
  {
   "cell_type": "code",
   "execution_count": 2,
   "metadata": {},
   "outputs": [
    {
     "name": "stdout",
     "output_type": "stream",
     "text": [
      "Input Five Subject marks :\n",
      "Enter Maths Marks out of 100 Marks= 88\n",
      "Enter Physic Marks out of 100 Marks= 88\n",
      "Enter Chemistry Marks out of 100 Marks = 88\n",
      "Enter Urdu Marks out of 100 Marks = 77\n",
      "Enter English Marks out of 100 Marks = 88\n",
      "Percentage = 85.8\n",
      "Congratulations you get A+ Grade\n"
     ]
    }
   ],
   "source": [
    "print(\"Input Five Subject marks :\")\n",
    "math = int(input(\"Enter Maths Marks out of 100 Marks= \"))\n",
    "physic = int(input(\"Enter Physic Marks out of 100 Marks= \"))\n",
    "chemistry = int(input(\"Enter Chemistry Marks out of 100 Marks = \"))\n",
    "urdu = int(input(\"Enter Urdu Marks out of 100 Marks = \"))\n",
    "english = int(input(\"Enter English Marks out of 100 Marks = \"))\n",
    "mark_sum = math + physic + chemistry + urdu + english\n",
    "percen = (mark_sum/500) * 100\n",
    "print(f'Percentage = {percen}')\n",
    "if (percen >= 80 and percen <= 100): {\n",
    "    print(\"Congratulations you get A+ Grade\")\n",
    "}\n",
    "elif (percen >= 70 and percen < 80): {\n",
    "    print(\"Congratulations you get A Grade\")\n",
    "}\n",
    "elif (percen >= 60 and percen < 70): {\n",
    "    print(\"Congratulations you get B Grade\")\n",
    "}\n",
    "elif (percen >= 50 and percen < 60): {\n",
    "    print(\"Congratulations you get c Grade\")\n",
    "}\n",
    "elif (percen >= 50 and percen < 60): {\n",
    "    print(\"Congratulations you get c Grade\")\n",
    "}\n",
    "else: {\n",
    "    print(\"Failed 'F'\")\n",
    "}"
   ]
  },
  {
   "cell_type": "code",
   "execution_count": 12,
   "metadata": {},
   "outputs": [
    {
     "name": "stdout",
     "output_type": "stream",
     "text": [
      "find a number even or odd\n",
      "Enter any number 8\n",
      "Even\n"
     ]
    }
   ],
   "source": [
    "print(\"find a number even or odd\")\n",
    "num = int(input(\"Enter any number \"))\n",
    "if (num%2 == 0): {\n",
    "    print(\"Even\")\n",
    "}\n",
    "else :{\n",
    "    print(\"odd\")\n",
    "}"
   ]
  },
  {
   "cell_type": "code",
   "execution_count": 17,
   "metadata": {},
   "outputs": [
    {
     "name": "stdout",
     "output_type": "stream",
     "text": [
      "Length of the list is : 5\n"
     ]
    }
   ],
   "source": [
    "name = {\"Ammad\" , \"Laiq\", \"Ghous\", \"Salman\" ,\"Shariq\"}\n",
    "print(f'Length of the list is : {len(name)}')"
   ]
  },
  {
   "cell_type": "code",
   "execution_count": 26,
   "metadata": {},
   "outputs": [
    {
     "name": "stdout",
     "output_type": "stream",
     "text": [
      "Sum of all Num in a list  20\n"
     ]
    }
   ],
   "source": [
    "num = [2 , 5 , 7 , 6]\n",
    "SumAll = num[0] + num[1] + num[2] + num[3]\n",
    "print(\"Sum of all Num in a list  \" +str(SumAll))"
   ]
  },
  {
   "cell_type": "code",
   "execution_count": 29,
   "metadata": {},
   "outputs": [
    {
     "name": "stdout",
     "output_type": "stream",
     "text": [
      "The largest no. in numeric list is : 88\n"
     ]
    }
   ],
   "source": [
    "arr = [11, 20, 10, 88]\n",
    "if arr[0] > arr[1]: \n",
    "    if arr[0] > arr[2]: \n",
    "        if arr[0] > arr[3]: \n",
    "            print(f'The largest no. in numeric list is : {arr[0]}')\n",
    "        else:\n",
    "            print(f'The largest no. in numeric list is : {arr[3]}')\n",
    "    else:\n",
    "        if arr[2] > arr[3]: \n",
    "            print(f'The largest no. in numeric list is : {arr[2]}')\n",
    "        else: \n",
    "            print(f'The largest no. in numeric list is : {arr[3]}')\n",
    "else: \n",
    "    if arr[1] > arr[2]: \n",
    "        if arr[1] > arr[3]: \n",
    "            print(f'The largest no. in numeric list is : {arr[1]}')\n",
    "        else: \n",
    "            print(f'The largest no. in numeric list is : {arr[3]}')\n",
    "    else: \n",
    "        if arr[2] > arr[3]: \n",
    "            print(f'The largest no. in numeric list is : {arr[2]}')\n",
    "        else: \n",
    "            print(f'The largest no. in numeric list is : {arr[3]}')"
   ]
  },
  {
   "cell_type": "code",
   "execution_count": 31,
   "metadata": {},
   "outputs": [
    {
     "name": "stdout",
     "output_type": "stream",
     "text": [
      "The no. less than 5 in numeric list are : [4, 1, 2, 0]\n"
     ]
    }
   ],
   "source": [
    "\n",
    "less_five = []\n",
    "arr = [5, 4, 1, 2, 0]\n",
    "if arr[0] < 5:\n",
    "    less_five.append(arr[0])# in python append work like push\n",
    "if arr[1] < 5:\n",
    "    less_five.append(arr[1])\n",
    "if arr[2] < 5:\n",
    "    less_five.append(arr[2])\n",
    "if arr[3] < 5:\n",
    "    less_five.append(arr[3])\n",
    "if arr[4] < 5:\n",
    "    less_five.append(arr[4])\n",
    "print(f'The no. less than 5 in numeric list are : {less_five}')"
   ]
  },
  {
   "cell_type": "code",
   "execution_count": null,
   "metadata": {},
   "outputs": [],
   "source": []
  }
 ],
 "metadata": {
  "kernelspec": {
   "display_name": "Python 3",
   "language": "python",
   "name": "python3"
  },
  "language_info": {
   "codemirror_mode": {
    "name": "ipython",
    "version": 3
   },
   "file_extension": ".py",
   "mimetype": "text/x-python",
   "name": "python",
   "nbconvert_exporter": "python",
   "pygments_lexer": "ipython3",
   "version": "3.7.4"
  }
 },
 "nbformat": 4,
 "nbformat_minor": 2
}
