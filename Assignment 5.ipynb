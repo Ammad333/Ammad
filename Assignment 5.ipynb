{
 "cells": [
  {
   "cell_type": "code",
   "execution_count": 7,
   "metadata": {},
   "outputs": [
    {
     "name": "stdout",
     "output_type": "stream",
     "text": [
      "Enter a number to find their factorial: 5\n",
      "120\n"
     ]
    }
   ],
   "source": [
    "def fact(n):\n",
    "    factorial = 1\n",
    "    for i in range(1,n+1):\n",
    "        factorial *= i\n",
    "        n -= 1\n",
    "    print(factorial)\n",
    "fact(int(input(\"Enter a number to find their factorial: \")))"
   ]
  },
  {
   "cell_type": "code",
   "execution_count": 9,
   "metadata": {},
   "outputs": [
    {
     "name": "stdout",
     "output_type": "stream",
     "text": [
      "Enter any stringAmmaD\n",
      "2\n",
      "3\n"
     ]
    }
   ],
   "source": [
    "def Cal_case(string):\n",
    "    upper_case = 0\n",
    "    lower_case = 0\n",
    "    for counts in string:\n",
    "        if counts == counts.upper():\n",
    "                upper_case +=1\n",
    "        elif counts == counts.lower():\n",
    "            lower_case +=1\n",
    "    print(upper_case)\n",
    "    print(lower_case)\n",
    "#Cal_case(\"kk\")\n",
    "Cal_case(input(\"Enter any string\"))\n"
   ]
  },
  {
   "cell_type": "code",
   "execution_count": 13,
   "metadata": {},
   "outputs": [
    {
     "name": "stdout",
     "output_type": "stream",
     "text": [
      "2\n",
      "4\n",
      "6\n",
      "8\n"
     ]
    }
   ],
   "source": [
    "def even(list):\n",
    "    for i in list:\n",
    "        if (i%2 == 0):\n",
    "            print(i)   \n",
    "even([1,2,3,4,5,6,7,8])            "
   ]
  },
  {
   "cell_type": "code",
   "execution_count": 20,
   "metadata": {},
   "outputs": [
    {
     "name": "stdout",
     "output_type": "stream",
     "text": [
      "Enter a string :Ammad\n",
      "This is not a palindrome\n"
     ]
    }
   ],
   "source": [
    "def pallindrom(pal):\n",
    "    if pal == pal[ : : -1]:\n",
    "        print(\"This is a palindrome\")\n",
    "    else:\n",
    "            print(\"This is not a palindrome\")\n",
    "i=input(\"Enter a string :\")            \n",
    "pallindrom(i)    \n",
    "    \n"
   ]
  },
  {
   "cell_type": "code",
   "execution_count": 19,
   "metadata": {},
   "outputs": [
    {
     "name": "stdout",
     "output_type": "stream",
     "text": [
      "Enter a prime no : 55\n",
      "55 is not a prime no \n"
     ]
    }
   ],
   "source": [
    "def func(prime_no):\n",
    "    check_prime = 'is a prime no.'\n",
    "    for prime in range(2,prime_no - 1):\n",
    "        if (prime_no%prime == 0):\n",
    "            check_prime = 'is not a prime no '\n",
    "            break\n",
    "    print(f'{prime_no} {check_prime}')\n",
    "func(int(input('Enter a prime no : ')))\n",
    "        \n",
    "    "
   ]
  },
  {
   "cell_type": "code",
   "execution_count": 21,
   "metadata": {},
   "outputs": [
    {
     "name": "stdout",
     "output_type": "stream",
     "text": [
      "Items:\n",
      "\n",
      "\tMilk\n",
      "\tPotato\n",
      "\tOil\n",
      "\tShampoo\n"
     ]
    }
   ],
   "source": [
    "def shopping(*items):\n",
    "    print(\"Items:\\n\")\n",
    "    for item in items:\n",
    "        print(f\"\\t{item}\")\n",
    "        \n",
    "# Calling\n",
    "shopping(\"Milk\",\"Potato\",\"Oil\",\"Shampoo\")"
   ]
  },
  {
   "cell_type": "code",
   "execution_count": null,
   "metadata": {},
   "outputs": [],
   "source": []
  },
  {
   "cell_type": "code",
   "execution_count": null,
   "metadata": {},
   "outputs": [],
   "source": []
  },
  {
   "cell_type": "code",
   "execution_count": null,
   "metadata": {},
   "outputs": [],
   "source": []
  },
  {
   "cell_type": "code",
   "execution_count": null,
   "metadata": {},
   "outputs": [],
   "source": []
  },
  {
   "cell_type": "code",
   "execution_count": null,
   "metadata": {},
   "outputs": [],
   "source": []
  },
  {
   "cell_type": "code",
   "execution_count": null,
   "metadata": {},
   "outputs": [],
   "source": []
  },
  {
   "cell_type": "code",
   "execution_count": null,
   "metadata": {},
   "outputs": [],
   "source": []
  }
 ],
 "metadata": {
  "kernelspec": {
   "display_name": "Python 3",
   "language": "python",
   "name": "python3"
  },
  "language_info": {
   "codemirror_mode": {
    "name": "ipython",
    "version": 3
   },
   "file_extension": ".py",
   "mimetype": "text/x-python",
   "name": "python",
   "nbconvert_exporter": "python",
   "pygments_lexer": "ipython3",
   "version": "3.7.4"
  }
 },
 "nbformat": 4,
 "nbformat_minor": 2
}
