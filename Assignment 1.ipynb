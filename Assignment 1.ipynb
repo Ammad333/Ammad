{
 "cells": [
  {
   "cell_type": "code",
   "execution_count": 1,
   "metadata": {},
   "outputs": [
    {
     "name": "stdout",
     "output_type": "stream",
     "text": [
      "Twinkle, Twinkle, little star\n",
      "    How i wonder what you are\n",
      "            Up above the world so high\n",
      "            like a diamond in the sky\n",
      " Twinkle, Twinkle, little star\n",
      "    How i wonder what you are\n",
      "\n"
     ]
    }
   ],
   "source": [
    "a = \"Twinkle, Twinkle, little star\\n\"\n",
    "b = \"   How i wonder what you are\\n\"\n",
    "h = \"           Up above the world so high\\n\"\n",
    "c = \"           like a diamond in the sky\\n\"\n",
    "print(a ,b ,h, c ,a,b)"
   ]
  },
  {
   "cell_type": "code",
   "execution_count": 2,
   "metadata": {},
   "outputs": [
    {
     "name": "stdout",
     "output_type": "stream",
     "text": [
      "System version:\n",
      "3.7.4 (default, Aug  9 2019, 18:34:13) [MSC v.1915 64 bit (AMD64)]\n"
     ]
    }
   ],
   "source": [
    "import sys\n",
    "print(\"System version:\")\n",
    "print(sys.version)"
   ]
  },
  {
   "cell_type": "code",
   "execution_count": 3,
   "metadata": {},
   "outputs": [
    {
     "name": "stdout",
     "output_type": "stream",
     "text": [
      "Current date and time is \n",
      "19-11-06 15:40:52\n"
     ]
    }
   ],
   "source": [
    "import datetime\n",
    "now=datetime.datetime.now()\n",
    "print(\"Current date and time is \")\n",
    "print(now.strftime(\"%y-%m-%d %H:%M:%S\"))"
   ]
  },
  {
   "cell_type": "code",
   "execution_count": 5,
   "metadata": {},
   "outputs": [
    {
     "name": "stdout",
     "output_type": "stream",
     "text": [
      "Enter the radius3.4\n",
      "Area of circle 36.2984\n"
     ]
    }
   ],
   "source": [
    "r = float(input(\"Enter the radius\"))\n",
    "pi = 3.14\n",
    "a = pi*r**2\n",
    "print(\"Area of circle \"+str(a))"
   ]
  },
  {
   "cell_type": "code",
   "execution_count": 8,
   "metadata": {},
   "outputs": [
    {
     "name": "stdout",
     "output_type": "stream",
     "text": [
      "Enter First name =Ammad\n",
      "Enter Last name   =Ahmed\n",
      "name in reverse order Ahmed Ammad\n"
     ]
    }
   ],
   "source": [
    "first_name=input(\"Enter First name =\")\n",
    "last_name=input(\"Enter Last name   =\")\n",
    "print(\"name in reverse order \"+last_name+\" \"+first_name)"
   ]
  },
  {
   "cell_type": "code",
   "execution_count": 15,
   "metadata": {},
   "outputs": [
    {
     "name": "stdout",
     "output_type": "stream",
     "text": [
      "Enter 1st number = 6\n",
      "Enter 2nd number = 9\n",
      "Addition of 6 and 9 = 15\n"
     ]
    }
   ],
   "source": [
    "num_1=int(input(\"Enter 1st number = \"))\n",
    "num_2=input(\"Enter 2nd number = \")\n",
    "add=num_1+int(num_2)\n",
    "print(\"Addition of \"+str(num_1)+\" and \"+num_2+\" = \"+str(add))"
   ]
  },
  {
   "cell_type": "code",
   "execution_count": null,
   "metadata": {},
   "outputs": [],
   "source": []
  },
  {
   "cell_type": "code",
   "execution_count": null,
   "metadata": {},
   "outputs": [],
   "source": []
  }
 ],
 "metadata": {
  "kernelspec": {
   "display_name": "Python 3",
   "language": "python",
   "name": "python3"
  },
  "language_info": {
   "codemirror_mode": {
    "name": "ipython",
    "version": 3
   },
   "file_extension": ".py",
   "mimetype": "text/x-python",
   "name": "python",
   "nbconvert_exporter": "python",
   "pygments_lexer": "ipython3",
   "version": "3.7.4"
  }
 },
 "nbformat": 4,
 "nbformat_minor": 2
}
